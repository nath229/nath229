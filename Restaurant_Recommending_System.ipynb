{
  "nbformat": 4,
  "nbformat_minor": 0,
  "metadata": {
    "colab": {
      "name": "Restaurant Recommending System.ipynb",
      "provenance": [],
      "collapsed_sections": [],
      "include_colab_link": true
    },
    "kernelspec": {
      "name": "python3",
      "display_name": "Python 3"
    },
    "language_info": {
      "name": "python"
    }
  },
  "cells": [
    {
      "cell_type": "markdown",
      "metadata": {
        "id": "view-in-github",
        "colab_type": "text"
      },
      "source": [
        "<a href=\"https://colab.research.google.com/github/nath229/nath229/blob/main/Restaurant_Recommending_System.ipynb\" target=\"_parent\"><img src=\"https://colab.research.google.com/assets/colab-badge.svg\" alt=\"Open In Colab\"/></a>"
      ]
    },
    {
      "cell_type": "markdown",
      "metadata": {
        "id": "zi3rtNeCzbcq"
      },
      "source": [
        "#Restaurant Recommender"
      ]
    },
    {
      "cell_type": "markdown",
      "metadata": {
        "id": "OzPz6OYY1Jf-"
      },
      "source": [
        "Importing the required packages"
      ]
    },
    {
      "cell_type": "code",
      "metadata": {
        "id": "b-Pj_l4CzmXh"
      },
      "source": [
        "import pandas as pd"
      ],
      "execution_count": 69,
      "outputs": []
    },
    {
      "cell_type": "markdown",
      "metadata": {
        "id": "T_MYLA2l1Uyd"
      },
      "source": [
        "Reading the dataset"
      ]
    },
    {
      "cell_type": "code",
      "metadata": {
        "id": "cdtW_J0OA8jn"
      },
      "source": [
        "df=pd.read_csv(\"/content/zomato.csv\",encoding=\"latin-1\")"
      ],
      "execution_count": 70,
      "outputs": []
    },
    {
      "cell_type": "markdown",
      "metadata": {
        "id": "8eoYqDlt1Yy3"
      },
      "source": [
        "Mapped Country codes to respextive countries"
      ]
    },
    {
      "cell_type": "code",
      "metadata": {
        "id": "EbkLfnhFubNY"
      },
      "source": [
        "countryCode_toName = {\n",
        "    1: \"India\",\n",
        "    14: \"Australia\",\n",
        "    30: \"Brazil\",\n",
        "    37: \"Canada\",\n",
        "    94: \"Indonesia\",\n",
        "    148: \"New Zealand\",\n",
        "    162: \"Phillipines\",\n",
        "    166: \"Qatar\",\n",
        "    184: \"Singapore\",\n",
        "    189: \"South Africa\",\n",
        "    191: \"Sri Lanka\",\n",
        "    208: \"Turkey\",\n",
        "    214: \"UAE\",\n",
        "    215: \"United Kingdom\",\n",
        "    216: \"United States\",\n",
        "}"
      ],
      "execution_count": 71,
      "outputs": []
    },
    {
      "cell_type": "markdown",
      "metadata": {
        "id": "-VlauXuf1fyr"
      },
      "source": [
        "Map Function "
      ]
    },
    {
      "cell_type": "code",
      "metadata": {
        "id": "6gt0gSPju1Jh"
      },
      "source": [
        "df['Country'] = df['Country Code'].apply(lambda x: countryCode_toName[x])"
      ],
      "execution_count": 72,
      "outputs": []
    },
    {
      "cell_type": "markdown",
      "metadata": {
        "id": "i5MNYArC1kCu"
      },
      "source": [
        "Showing the first 5  data entries"
      ]
    },
    {
      "cell_type": "code",
      "metadata": {
        "colab": {
          "base_uri": "https://localhost:8080/",
          "height": 768
        },
        "id": "JLLcrwnDCXNB",
        "outputId": "4be99b7c-1d7b-41d2-bcc9-7f27eedc5b7c"
      },
      "source": [
        "df.head()"
      ],
      "execution_count": 73,
      "outputs": [
        {
          "output_type": "execute_result",
          "data": {
            "text/html": [
              "<div>\n",
              "<style scoped>\n",
              "    .dataframe tbody tr th:only-of-type {\n",
              "        vertical-align: middle;\n",
              "    }\n",
              "\n",
              "    .dataframe tbody tr th {\n",
              "        vertical-align: top;\n",
              "    }\n",
              "\n",
              "    .dataframe thead th {\n",
              "        text-align: right;\n",
              "    }\n",
              "</style>\n",
              "<table border=\"1\" class=\"dataframe\">\n",
              "  <thead>\n",
              "    <tr style=\"text-align: right;\">\n",
              "      <th></th>\n",
              "      <th>Restaurant ID</th>\n",
              "      <th>Restaurant Name</th>\n",
              "      <th>Country Code</th>\n",
              "      <th>City</th>\n",
              "      <th>Address</th>\n",
              "      <th>Locality</th>\n",
              "      <th>Locality Verbose</th>\n",
              "      <th>Longitude</th>\n",
              "      <th>Latitude</th>\n",
              "      <th>Cuisines</th>\n",
              "      <th>Average Cost for two</th>\n",
              "      <th>Currency</th>\n",
              "      <th>Has Table booking</th>\n",
              "      <th>Has Online delivery</th>\n",
              "      <th>Is delivering now</th>\n",
              "      <th>Switch to order menu</th>\n",
              "      <th>Price range</th>\n",
              "      <th>Aggregate rating</th>\n",
              "      <th>Rating color</th>\n",
              "      <th>Rating text</th>\n",
              "      <th>Votes</th>\n",
              "      <th>Country</th>\n",
              "    </tr>\n",
              "  </thead>\n",
              "  <tbody>\n",
              "    <tr>\n",
              "      <th>0</th>\n",
              "      <td>6317637</td>\n",
              "      <td>Le Petit Souffle</td>\n",
              "      <td>162</td>\n",
              "      <td>Makati City</td>\n",
              "      <td>Third Floor, Century City Mall, Kalayaan Avenu...</td>\n",
              "      <td>Century City Mall, Poblacion, Makati City</td>\n",
              "      <td>Century City Mall, Poblacion, Makati City, Mak...</td>\n",
              "      <td>121.027535</td>\n",
              "      <td>14.565443</td>\n",
              "      <td>French, Japanese, Desserts</td>\n",
              "      <td>1100</td>\n",
              "      <td>Botswana Pula(P)</td>\n",
              "      <td>Yes</td>\n",
              "      <td>No</td>\n",
              "      <td>No</td>\n",
              "      <td>No</td>\n",
              "      <td>3</td>\n",
              "      <td>4.8</td>\n",
              "      <td>Dark Green</td>\n",
              "      <td>Excellent</td>\n",
              "      <td>314</td>\n",
              "      <td>Phillipines</td>\n",
              "    </tr>\n",
              "    <tr>\n",
              "      <th>1</th>\n",
              "      <td>6304287</td>\n",
              "      <td>Izakaya Kikufuji</td>\n",
              "      <td>162</td>\n",
              "      <td>Makati City</td>\n",
              "      <td>Little Tokyo, 2277 Chino Roces Avenue, Legaspi...</td>\n",
              "      <td>Little Tokyo, Legaspi Village, Makati City</td>\n",
              "      <td>Little Tokyo, Legaspi Village, Makati City, Ma...</td>\n",
              "      <td>121.014101</td>\n",
              "      <td>14.553708</td>\n",
              "      <td>Japanese</td>\n",
              "      <td>1200</td>\n",
              "      <td>Botswana Pula(P)</td>\n",
              "      <td>Yes</td>\n",
              "      <td>No</td>\n",
              "      <td>No</td>\n",
              "      <td>No</td>\n",
              "      <td>3</td>\n",
              "      <td>4.5</td>\n",
              "      <td>Dark Green</td>\n",
              "      <td>Excellent</td>\n",
              "      <td>591</td>\n",
              "      <td>Phillipines</td>\n",
              "    </tr>\n",
              "    <tr>\n",
              "      <th>2</th>\n",
              "      <td>6300002</td>\n",
              "      <td>Heat - Edsa Shangri-La</td>\n",
              "      <td>162</td>\n",
              "      <td>Mandaluyong City</td>\n",
              "      <td>Edsa Shangri-La, 1 Garden Way, Ortigas, Mandal...</td>\n",
              "      <td>Edsa Shangri-La, Ortigas, Mandaluyong City</td>\n",
              "      <td>Edsa Shangri-La, Ortigas, Mandaluyong City, Ma...</td>\n",
              "      <td>121.056831</td>\n",
              "      <td>14.581404</td>\n",
              "      <td>Seafood, Asian, Filipino, Indian</td>\n",
              "      <td>4000</td>\n",
              "      <td>Botswana Pula(P)</td>\n",
              "      <td>Yes</td>\n",
              "      <td>No</td>\n",
              "      <td>No</td>\n",
              "      <td>No</td>\n",
              "      <td>4</td>\n",
              "      <td>4.4</td>\n",
              "      <td>Green</td>\n",
              "      <td>Very Good</td>\n",
              "      <td>270</td>\n",
              "      <td>Phillipines</td>\n",
              "    </tr>\n",
              "    <tr>\n",
              "      <th>3</th>\n",
              "      <td>6318506</td>\n",
              "      <td>Ooma</td>\n",
              "      <td>162</td>\n",
              "      <td>Mandaluyong City</td>\n",
              "      <td>Third Floor, Mega Fashion Hall, SM Megamall, O...</td>\n",
              "      <td>SM Megamall, Ortigas, Mandaluyong City</td>\n",
              "      <td>SM Megamall, Ortigas, Mandaluyong City, Mandal...</td>\n",
              "      <td>121.056475</td>\n",
              "      <td>14.585318</td>\n",
              "      <td>Japanese, Sushi</td>\n",
              "      <td>1500</td>\n",
              "      <td>Botswana Pula(P)</td>\n",
              "      <td>No</td>\n",
              "      <td>No</td>\n",
              "      <td>No</td>\n",
              "      <td>No</td>\n",
              "      <td>4</td>\n",
              "      <td>4.9</td>\n",
              "      <td>Dark Green</td>\n",
              "      <td>Excellent</td>\n",
              "      <td>365</td>\n",
              "      <td>Phillipines</td>\n",
              "    </tr>\n",
              "    <tr>\n",
              "      <th>4</th>\n",
              "      <td>6314302</td>\n",
              "      <td>Sambo Kojin</td>\n",
              "      <td>162</td>\n",
              "      <td>Mandaluyong City</td>\n",
              "      <td>Third Floor, Mega Atrium, SM Megamall, Ortigas...</td>\n",
              "      <td>SM Megamall, Ortigas, Mandaluyong City</td>\n",
              "      <td>SM Megamall, Ortigas, Mandaluyong City, Mandal...</td>\n",
              "      <td>121.057508</td>\n",
              "      <td>14.584450</td>\n",
              "      <td>Japanese, Korean</td>\n",
              "      <td>1500</td>\n",
              "      <td>Botswana Pula(P)</td>\n",
              "      <td>Yes</td>\n",
              "      <td>No</td>\n",
              "      <td>No</td>\n",
              "      <td>No</td>\n",
              "      <td>4</td>\n",
              "      <td>4.8</td>\n",
              "      <td>Dark Green</td>\n",
              "      <td>Excellent</td>\n",
              "      <td>229</td>\n",
              "      <td>Phillipines</td>\n",
              "    </tr>\n",
              "  </tbody>\n",
              "</table>\n",
              "</div>"
            ],
            "text/plain": [
              "   Restaurant ID         Restaurant Name  ...  Votes      Country\n",
              "0        6317637        Le Petit Souffle  ...    314  Phillipines\n",
              "1        6304287        Izakaya Kikufuji  ...    591  Phillipines\n",
              "2        6300002  Heat - Edsa Shangri-La  ...    270  Phillipines\n",
              "3        6318506                    Ooma  ...    365  Phillipines\n",
              "4        6314302             Sambo Kojin  ...    229  Phillipines\n",
              "\n",
              "[5 rows x 22 columns]"
            ]
          },
          "metadata": {
            "tags": []
          },
          "execution_count": 73
        }
      ]
    },
    {
      "cell_type": "markdown",
      "metadata": {
        "id": "hDpztpyO1v9E"
      },
      "source": [
        "Taking the restaurants of india only"
      ]
    },
    {
      "cell_type": "code",
      "metadata": {
        "id": "dqhZpCYTwHil"
      },
      "source": [
        "new_df = df.loc[(df['Country Code'] == 1),:]"
      ],
      "execution_count": 74,
      "outputs": []
    },
    {
      "cell_type": "code",
      "metadata": {
        "colab": {
          "base_uri": "https://localhost:8080/",
          "height": 1000
        },
        "id": "GpHoJridxSCQ",
        "outputId": "c1a45282-b6e7-4974-e1af-204a8f21e66f"
      },
      "source": [
        "new_df"
      ],
      "execution_count": 75,
      "outputs": [
        {
          "output_type": "execute_result",
          "data": {
            "text/html": [
              "<div>\n",
              "<style scoped>\n",
              "    .dataframe tbody tr th:only-of-type {\n",
              "        vertical-align: middle;\n",
              "    }\n",
              "\n",
              "    .dataframe tbody tr th {\n",
              "        vertical-align: top;\n",
              "    }\n",
              "\n",
              "    .dataframe thead th {\n",
              "        text-align: right;\n",
              "    }\n",
              "</style>\n",
              "<table border=\"1\" class=\"dataframe\">\n",
              "  <thead>\n",
              "    <tr style=\"text-align: right;\">\n",
              "      <th></th>\n",
              "      <th>Restaurant ID</th>\n",
              "      <th>Restaurant Name</th>\n",
              "      <th>Country Code</th>\n",
              "      <th>City</th>\n",
              "      <th>Address</th>\n",
              "      <th>Locality</th>\n",
              "      <th>Locality Verbose</th>\n",
              "      <th>Longitude</th>\n",
              "      <th>Latitude</th>\n",
              "      <th>Cuisines</th>\n",
              "      <th>Average Cost for two</th>\n",
              "      <th>Currency</th>\n",
              "      <th>Has Table booking</th>\n",
              "      <th>Has Online delivery</th>\n",
              "      <th>Is delivering now</th>\n",
              "      <th>Switch to order menu</th>\n",
              "      <th>Price range</th>\n",
              "      <th>Aggregate rating</th>\n",
              "      <th>Rating color</th>\n",
              "      <th>Rating text</th>\n",
              "      <th>Votes</th>\n",
              "      <th>Country</th>\n",
              "    </tr>\n",
              "  </thead>\n",
              "  <tbody>\n",
              "    <tr>\n",
              "      <th>624</th>\n",
              "      <td>3400025</td>\n",
              "      <td>Jahanpanah</td>\n",
              "      <td>1</td>\n",
              "      <td>Agra</td>\n",
              "      <td>E 23, Shopping Arcade, Sadar Bazaar, Agra Cant...</td>\n",
              "      <td>Agra Cantt</td>\n",
              "      <td>Agra Cantt, Agra</td>\n",
              "      <td>78.011544</td>\n",
              "      <td>27.161661</td>\n",
              "      <td>North Indian, Mughlai</td>\n",
              "      <td>850</td>\n",
              "      <td>Indian Rupees(Rs.)</td>\n",
              "      <td>No</td>\n",
              "      <td>No</td>\n",
              "      <td>No</td>\n",
              "      <td>No</td>\n",
              "      <td>3</td>\n",
              "      <td>3.9</td>\n",
              "      <td>Yellow</td>\n",
              "      <td>Good</td>\n",
              "      <td>140</td>\n",
              "      <td>India</td>\n",
              "    </tr>\n",
              "    <tr>\n",
              "      <th>625</th>\n",
              "      <td>3400341</td>\n",
              "      <td>Rangrezz Restaurant</td>\n",
              "      <td>1</td>\n",
              "      <td>Agra</td>\n",
              "      <td>E-20, Shopping Arcade, Sadar Bazaar, Agra Cant...</td>\n",
              "      <td>Agra Cantt</td>\n",
              "      <td>Agra Cantt, Agra</td>\n",
              "      <td>0.000000</td>\n",
              "      <td>0.000000</td>\n",
              "      <td>North Indian, Mughlai</td>\n",
              "      <td>700</td>\n",
              "      <td>Indian Rupees(Rs.)</td>\n",
              "      <td>No</td>\n",
              "      <td>No</td>\n",
              "      <td>No</td>\n",
              "      <td>No</td>\n",
              "      <td>2</td>\n",
              "      <td>3.5</td>\n",
              "      <td>Yellow</td>\n",
              "      <td>Good</td>\n",
              "      <td>71</td>\n",
              "      <td>India</td>\n",
              "    </tr>\n",
              "    <tr>\n",
              "      <th>626</th>\n",
              "      <td>3400005</td>\n",
              "      <td>Time2Eat - Mama Chicken</td>\n",
              "      <td>1</td>\n",
              "      <td>Agra</td>\n",
              "      <td>Main Market, Sadar Bazaar, Agra Cantt, Agra</td>\n",
              "      <td>Agra Cantt</td>\n",
              "      <td>Agra Cantt, Agra</td>\n",
              "      <td>78.011608</td>\n",
              "      <td>27.160832</td>\n",
              "      <td>North Indian</td>\n",
              "      <td>500</td>\n",
              "      <td>Indian Rupees(Rs.)</td>\n",
              "      <td>No</td>\n",
              "      <td>No</td>\n",
              "      <td>No</td>\n",
              "      <td>No</td>\n",
              "      <td>2</td>\n",
              "      <td>3.6</td>\n",
              "      <td>Yellow</td>\n",
              "      <td>Good</td>\n",
              "      <td>94</td>\n",
              "      <td>India</td>\n",
              "    </tr>\n",
              "    <tr>\n",
              "      <th>627</th>\n",
              "      <td>3400021</td>\n",
              "      <td>Chokho Jeeman Marwari Jain Bhojanalya</td>\n",
              "      <td>1</td>\n",
              "      <td>Agra</td>\n",
              "      <td>1/48, Delhi Gate, Station Road, Raja Mandi, Ci...</td>\n",
              "      <td>Civil Lines</td>\n",
              "      <td>Civil Lines, Agra</td>\n",
              "      <td>77.998092</td>\n",
              "      <td>27.195928</td>\n",
              "      <td>Rajasthani</td>\n",
              "      <td>400</td>\n",
              "      <td>Indian Rupees(Rs.)</td>\n",
              "      <td>No</td>\n",
              "      <td>No</td>\n",
              "      <td>No</td>\n",
              "      <td>No</td>\n",
              "      <td>2</td>\n",
              "      <td>4.0</td>\n",
              "      <td>Green</td>\n",
              "      <td>Very Good</td>\n",
              "      <td>87</td>\n",
              "      <td>India</td>\n",
              "    </tr>\n",
              "    <tr>\n",
              "      <th>628</th>\n",
              "      <td>3400017</td>\n",
              "      <td>Pinch Of Spice</td>\n",
              "      <td>1</td>\n",
              "      <td>Agra</td>\n",
              "      <td>23/453, Opposite Sanjay Cinema, Wazipura Road,...</td>\n",
              "      <td>Civil Lines</td>\n",
              "      <td>Civil Lines, Agra</td>\n",
              "      <td>78.007553</td>\n",
              "      <td>27.201725</td>\n",
              "      <td>North Indian, Chinese, Mughlai</td>\n",
              "      <td>1000</td>\n",
              "      <td>Indian Rupees(Rs.)</td>\n",
              "      <td>No</td>\n",
              "      <td>No</td>\n",
              "      <td>No</td>\n",
              "      <td>No</td>\n",
              "      <td>3</td>\n",
              "      <td>4.2</td>\n",
              "      <td>Green</td>\n",
              "      <td>Very Good</td>\n",
              "      <td>177</td>\n",
              "      <td>India</td>\n",
              "    </tr>\n",
              "    <tr>\n",
              "      <th>...</th>\n",
              "      <td>...</td>\n",
              "      <td>...</td>\n",
              "      <td>...</td>\n",
              "      <td>...</td>\n",
              "      <td>...</td>\n",
              "      <td>...</td>\n",
              "      <td>...</td>\n",
              "      <td>...</td>\n",
              "      <td>...</td>\n",
              "      <td>...</td>\n",
              "      <td>...</td>\n",
              "      <td>...</td>\n",
              "      <td>...</td>\n",
              "      <td>...</td>\n",
              "      <td>...</td>\n",
              "      <td>...</td>\n",
              "      <td>...</td>\n",
              "      <td>...</td>\n",
              "      <td>...</td>\n",
              "      <td>...</td>\n",
              "      <td>...</td>\n",
              "      <td>...</td>\n",
              "    </tr>\n",
              "    <tr>\n",
              "      <th>9271</th>\n",
              "      <td>2800100</td>\n",
              "      <td>D Cabana</td>\n",
              "      <td>1</td>\n",
              "      <td>Vizag</td>\n",
              "      <td>Beach Road, Near Bus Stop, Sagar Nagar, Visakh...</td>\n",
              "      <td>Sagar Nagar</td>\n",
              "      <td>Sagar Nagar, Vizag</td>\n",
              "      <td>83.361377</td>\n",
              "      <td>17.764287</td>\n",
              "      <td>Continental, Seafood, Chinese, North Indian, B...</td>\n",
              "      <td>600</td>\n",
              "      <td>Indian Rupees(Rs.)</td>\n",
              "      <td>No</td>\n",
              "      <td>No</td>\n",
              "      <td>No</td>\n",
              "      <td>No</td>\n",
              "      <td>2</td>\n",
              "      <td>3.6</td>\n",
              "      <td>Yellow</td>\n",
              "      <td>Good</td>\n",
              "      <td>193</td>\n",
              "      <td>India</td>\n",
              "    </tr>\n",
              "    <tr>\n",
              "      <th>9272</th>\n",
              "      <td>2800418</td>\n",
              "      <td>Kaloreez</td>\n",
              "      <td>1</td>\n",
              "      <td>Vizag</td>\n",
              "      <td>Plot 95, Opposite St. Lukes Nursing School, Da...</td>\n",
              "      <td>Siripuram</td>\n",
              "      <td>Siripuram, Vizag</td>\n",
              "      <td>0.000000</td>\n",
              "      <td>0.000000</td>\n",
              "      <td>Cafe, North Indian, Chinese</td>\n",
              "      <td>400</td>\n",
              "      <td>Indian Rupees(Rs.)</td>\n",
              "      <td>No</td>\n",
              "      <td>No</td>\n",
              "      <td>No</td>\n",
              "      <td>No</td>\n",
              "      <td>2</td>\n",
              "      <td>3.7</td>\n",
              "      <td>Yellow</td>\n",
              "      <td>Good</td>\n",
              "      <td>85</td>\n",
              "      <td>India</td>\n",
              "    </tr>\n",
              "    <tr>\n",
              "      <th>9273</th>\n",
              "      <td>2800881</td>\n",
              "      <td>Plot 17</td>\n",
              "      <td>1</td>\n",
              "      <td>Vizag</td>\n",
              "      <td>Plot 17, Gangapur Layout, Siripuram, Vizag</td>\n",
              "      <td>Siripuram</td>\n",
              "      <td>Siripuram, Vizag</td>\n",
              "      <td>83.315281</td>\n",
              "      <td>17.719539</td>\n",
              "      <td>Burger, Pizza, Biryani</td>\n",
              "      <td>600</td>\n",
              "      <td>Indian Rupees(Rs.)</td>\n",
              "      <td>No</td>\n",
              "      <td>No</td>\n",
              "      <td>No</td>\n",
              "      <td>No</td>\n",
              "      <td>2</td>\n",
              "      <td>4.3</td>\n",
              "      <td>Green</td>\n",
              "      <td>Very Good</td>\n",
              "      <td>172</td>\n",
              "      <td>India</td>\n",
              "    </tr>\n",
              "    <tr>\n",
              "      <th>9274</th>\n",
              "      <td>2800042</td>\n",
              "      <td>Vista - The Park</td>\n",
              "      <td>1</td>\n",
              "      <td>Vizag</td>\n",
              "      <td>The Park, Beach Road, Pedda Waltair, Lawsons B...</td>\n",
              "      <td>The Park, Lawsons Bay</td>\n",
              "      <td>The Park, Lawsons Bay, Vizag</td>\n",
              "      <td>83.336840</td>\n",
              "      <td>17.721182</td>\n",
              "      <td>American, North Indian, Thai, Continental</td>\n",
              "      <td>1500</td>\n",
              "      <td>Indian Rupees(Rs.)</td>\n",
              "      <td>No</td>\n",
              "      <td>No</td>\n",
              "      <td>No</td>\n",
              "      <td>No</td>\n",
              "      <td>4</td>\n",
              "      <td>3.8</td>\n",
              "      <td>Yellow</td>\n",
              "      <td>Good</td>\n",
              "      <td>74</td>\n",
              "      <td>India</td>\n",
              "    </tr>\n",
              "    <tr>\n",
              "      <th>9275</th>\n",
              "      <td>2800019</td>\n",
              "      <td>Flying Spaghetti Monster</td>\n",
              "      <td>1</td>\n",
              "      <td>Vizag</td>\n",
              "      <td>10-50-12/F2, Sai Dakshata Complex, Beside Leno...</td>\n",
              "      <td>Waltair Uplands</td>\n",
              "      <td>Waltair Uplands, Vizag</td>\n",
              "      <td>83.314942</td>\n",
              "      <td>17.721119</td>\n",
              "      <td>Italian</td>\n",
              "      <td>1400</td>\n",
              "      <td>Indian Rupees(Rs.)</td>\n",
              "      <td>No</td>\n",
              "      <td>No</td>\n",
              "      <td>No</td>\n",
              "      <td>No</td>\n",
              "      <td>3</td>\n",
              "      <td>4.4</td>\n",
              "      <td>Green</td>\n",
              "      <td>Very Good</td>\n",
              "      <td>316</td>\n",
              "      <td>India</td>\n",
              "    </tr>\n",
              "  </tbody>\n",
              "</table>\n",
              "<p>8652 rows × 22 columns</p>\n",
              "</div>"
            ],
            "text/plain": [
              "      Restaurant ID                        Restaurant Name  ...  Votes Country\n",
              "624         3400025                             Jahanpanah  ...    140   India\n",
              "625         3400341                    Rangrezz Restaurant  ...     71   India\n",
              "626         3400005                Time2Eat - Mama Chicken  ...     94   India\n",
              "627         3400021  Chokho Jeeman Marwari Jain Bhojanalya  ...     87   India\n",
              "628         3400017                         Pinch Of Spice  ...    177   India\n",
              "...             ...                                    ...  ...    ...     ...\n",
              "9271        2800100                               D Cabana  ...    193   India\n",
              "9272        2800418                               Kaloreez  ...     85   India\n",
              "9273        2800881                                Plot 17  ...    172   India\n",
              "9274        2800042                       Vista - The Park  ...     74   India\n",
              "9275        2800019               Flying Spaghetti Monster  ...    316   India\n",
              "\n",
              "[8652 rows x 22 columns]"
            ]
          },
          "metadata": {
            "tags": []
          },
          "execution_count": 75
        }
      ]
    },
    {
      "cell_type": "markdown",
      "metadata": {
        "id": "1178m-uS2qsx"
      },
      "source": [
        "Cleaning the entries where attribute \"Rating text\" is \"not rated\" "
      ]
    },
    {
      "cell_type": "code",
      "metadata": {
        "id": "run9vQHrv0C5"
      },
      "source": [
        "new_df = new_df.loc[(df['Rating text']!='Not rated'),:]"
      ],
      "execution_count": 77,
      "outputs": []
    },
    {
      "cell_type": "code",
      "metadata": {
        "colab": {
          "base_uri": "https://localhost:8080/"
        },
        "id": "YVpYc8H-3B-N",
        "outputId": "dfc7b6c9-50fc-4165-d38e-f2dcd275ec27"
      },
      "source": [
        "new_df.loc[(df['Rating text']=='Not rated'),:].count()"
      ],
      "execution_count": 78,
      "outputs": [
        {
          "output_type": "execute_result",
          "data": {
            "text/plain": [
              "Restaurant ID           0\n",
              "Restaurant Name         0\n",
              "Country Code            0\n",
              "City                    0\n",
              "Address                 0\n",
              "Locality                0\n",
              "Locality Verbose        0\n",
              "Longitude               0\n",
              "Latitude                0\n",
              "Cuisines                0\n",
              "Average Cost for two    0\n",
              "Currency                0\n",
              "Has Table booking       0\n",
              "Has Online delivery     0\n",
              "Is delivering now       0\n",
              "Switch to order menu    0\n",
              "Price range             0\n",
              "Aggregate rating        0\n",
              "Rating color            0\n",
              "Rating text             0\n",
              "Votes                   0\n",
              "Country                 0\n",
              "dtype: int64"
            ]
          },
          "metadata": {
            "tags": []
          },
          "execution_count": 78
        }
      ]
    },
    {
      "cell_type": "code",
      "metadata": {
        "colab": {
          "base_uri": "https://localhost:8080/",
          "height": 785
        },
        "id": "NNbM-fZFsm0F",
        "outputId": "2db12f52-9eb7-492b-bc69-468145176768"
      },
      "source": [
        "new_df.head()"
      ],
      "execution_count": 79,
      "outputs": [
        {
          "output_type": "execute_result",
          "data": {
            "text/html": [
              "<div>\n",
              "<style scoped>\n",
              "    .dataframe tbody tr th:only-of-type {\n",
              "        vertical-align: middle;\n",
              "    }\n",
              "\n",
              "    .dataframe tbody tr th {\n",
              "        vertical-align: top;\n",
              "    }\n",
              "\n",
              "    .dataframe thead th {\n",
              "        text-align: right;\n",
              "    }\n",
              "</style>\n",
              "<table border=\"1\" class=\"dataframe\">\n",
              "  <thead>\n",
              "    <tr style=\"text-align: right;\">\n",
              "      <th></th>\n",
              "      <th>Restaurant ID</th>\n",
              "      <th>Restaurant Name</th>\n",
              "      <th>Country Code</th>\n",
              "      <th>City</th>\n",
              "      <th>Address</th>\n",
              "      <th>Locality</th>\n",
              "      <th>Locality Verbose</th>\n",
              "      <th>Longitude</th>\n",
              "      <th>Latitude</th>\n",
              "      <th>Cuisines</th>\n",
              "      <th>Average Cost for two</th>\n",
              "      <th>Currency</th>\n",
              "      <th>Has Table booking</th>\n",
              "      <th>Has Online delivery</th>\n",
              "      <th>Is delivering now</th>\n",
              "      <th>Switch to order menu</th>\n",
              "      <th>Price range</th>\n",
              "      <th>Aggregate rating</th>\n",
              "      <th>Rating color</th>\n",
              "      <th>Rating text</th>\n",
              "      <th>Votes</th>\n",
              "      <th>Country</th>\n",
              "    </tr>\n",
              "  </thead>\n",
              "  <tbody>\n",
              "    <tr>\n",
              "      <th>624</th>\n",
              "      <td>3400025</td>\n",
              "      <td>Jahanpanah</td>\n",
              "      <td>1</td>\n",
              "      <td>Agra</td>\n",
              "      <td>E 23, Shopping Arcade, Sadar Bazaar, Agra Cant...</td>\n",
              "      <td>Agra Cantt</td>\n",
              "      <td>Agra Cantt, Agra</td>\n",
              "      <td>78.011544</td>\n",
              "      <td>27.161661</td>\n",
              "      <td>North Indian, Mughlai</td>\n",
              "      <td>850</td>\n",
              "      <td>Indian Rupees(Rs.)</td>\n",
              "      <td>No</td>\n",
              "      <td>No</td>\n",
              "      <td>No</td>\n",
              "      <td>No</td>\n",
              "      <td>3</td>\n",
              "      <td>3.9</td>\n",
              "      <td>Yellow</td>\n",
              "      <td>Good</td>\n",
              "      <td>140</td>\n",
              "      <td>India</td>\n",
              "    </tr>\n",
              "    <tr>\n",
              "      <th>625</th>\n",
              "      <td>3400341</td>\n",
              "      <td>Rangrezz Restaurant</td>\n",
              "      <td>1</td>\n",
              "      <td>Agra</td>\n",
              "      <td>E-20, Shopping Arcade, Sadar Bazaar, Agra Cant...</td>\n",
              "      <td>Agra Cantt</td>\n",
              "      <td>Agra Cantt, Agra</td>\n",
              "      <td>0.000000</td>\n",
              "      <td>0.000000</td>\n",
              "      <td>North Indian, Mughlai</td>\n",
              "      <td>700</td>\n",
              "      <td>Indian Rupees(Rs.)</td>\n",
              "      <td>No</td>\n",
              "      <td>No</td>\n",
              "      <td>No</td>\n",
              "      <td>No</td>\n",
              "      <td>2</td>\n",
              "      <td>3.5</td>\n",
              "      <td>Yellow</td>\n",
              "      <td>Good</td>\n",
              "      <td>71</td>\n",
              "      <td>India</td>\n",
              "    </tr>\n",
              "    <tr>\n",
              "      <th>626</th>\n",
              "      <td>3400005</td>\n",
              "      <td>Time2Eat - Mama Chicken</td>\n",
              "      <td>1</td>\n",
              "      <td>Agra</td>\n",
              "      <td>Main Market, Sadar Bazaar, Agra Cantt, Agra</td>\n",
              "      <td>Agra Cantt</td>\n",
              "      <td>Agra Cantt, Agra</td>\n",
              "      <td>78.011608</td>\n",
              "      <td>27.160832</td>\n",
              "      <td>North Indian</td>\n",
              "      <td>500</td>\n",
              "      <td>Indian Rupees(Rs.)</td>\n",
              "      <td>No</td>\n",
              "      <td>No</td>\n",
              "      <td>No</td>\n",
              "      <td>No</td>\n",
              "      <td>2</td>\n",
              "      <td>3.6</td>\n",
              "      <td>Yellow</td>\n",
              "      <td>Good</td>\n",
              "      <td>94</td>\n",
              "      <td>India</td>\n",
              "    </tr>\n",
              "    <tr>\n",
              "      <th>627</th>\n",
              "      <td>3400021</td>\n",
              "      <td>Chokho Jeeman Marwari Jain Bhojanalya</td>\n",
              "      <td>1</td>\n",
              "      <td>Agra</td>\n",
              "      <td>1/48, Delhi Gate, Station Road, Raja Mandi, Ci...</td>\n",
              "      <td>Civil Lines</td>\n",
              "      <td>Civil Lines, Agra</td>\n",
              "      <td>77.998092</td>\n",
              "      <td>27.195928</td>\n",
              "      <td>Rajasthani</td>\n",
              "      <td>400</td>\n",
              "      <td>Indian Rupees(Rs.)</td>\n",
              "      <td>No</td>\n",
              "      <td>No</td>\n",
              "      <td>No</td>\n",
              "      <td>No</td>\n",
              "      <td>2</td>\n",
              "      <td>4.0</td>\n",
              "      <td>Green</td>\n",
              "      <td>Very Good</td>\n",
              "      <td>87</td>\n",
              "      <td>India</td>\n",
              "    </tr>\n",
              "    <tr>\n",
              "      <th>628</th>\n",
              "      <td>3400017</td>\n",
              "      <td>Pinch Of Spice</td>\n",
              "      <td>1</td>\n",
              "      <td>Agra</td>\n",
              "      <td>23/453, Opposite Sanjay Cinema, Wazipura Road,...</td>\n",
              "      <td>Civil Lines</td>\n",
              "      <td>Civil Lines, Agra</td>\n",
              "      <td>78.007553</td>\n",
              "      <td>27.201725</td>\n",
              "      <td>North Indian, Chinese, Mughlai</td>\n",
              "      <td>1000</td>\n",
              "      <td>Indian Rupees(Rs.)</td>\n",
              "      <td>No</td>\n",
              "      <td>No</td>\n",
              "      <td>No</td>\n",
              "      <td>No</td>\n",
              "      <td>3</td>\n",
              "      <td>4.2</td>\n",
              "      <td>Green</td>\n",
              "      <td>Very Good</td>\n",
              "      <td>177</td>\n",
              "      <td>India</td>\n",
              "    </tr>\n",
              "  </tbody>\n",
              "</table>\n",
              "</div>"
            ],
            "text/plain": [
              "     Restaurant ID                        Restaurant Name  ...  Votes Country\n",
              "624        3400025                             Jahanpanah  ...    140   India\n",
              "625        3400341                    Rangrezz Restaurant  ...     71   India\n",
              "626        3400005                Time2Eat - Mama Chicken  ...     94   India\n",
              "627        3400021  Chokho Jeeman Marwari Jain Bhojanalya  ...     87   India\n",
              "628        3400017                         Pinch Of Spice  ...    177   India\n",
              "\n",
              "[5 rows x 22 columns]"
            ]
          },
          "metadata": {
            "tags": []
          },
          "execution_count": 79
        }
      ]
    },
    {
      "cell_type": "code",
      "metadata": {
        "colab": {
          "base_uri": "https://localhost:8080/"
        },
        "id": "H4uD8o0csm25",
        "outputId": "9b4606a2-1687-4f72-bb58-079eb0b55984"
      },
      "source": [
        "new_df.drop(['Country Code'],axis=1,inplace=True)"
      ],
      "execution_count": 80,
      "outputs": [
        {
          "output_type": "stream",
          "text": [
            "/usr/local/lib/python3.7/dist-packages/pandas/core/frame.py:4174: SettingWithCopyWarning: \n",
            "A value is trying to be set on a copy of a slice from a DataFrame\n",
            "\n",
            "See the caveats in the documentation: https://pandas.pydata.org/pandas-docs/stable/user_guide/indexing.html#returning-a-view-versus-a-copy\n",
            "  errors=errors,\n"
          ],
          "name": "stderr"
        }
      ]
    },
    {
      "cell_type": "code",
      "metadata": {
        "colab": {
          "base_uri": "https://localhost:8080/",
          "height": 785
        },
        "id": "4cxoHg-N3NX4",
        "outputId": "7bb74e55-47d0-45f7-84c0-749b957f41af"
      },
      "source": [
        "new_df.head()"
      ],
      "execution_count": 81,
      "outputs": [
        {
          "output_type": "execute_result",
          "data": {
            "text/html": [
              "<div>\n",
              "<style scoped>\n",
              "    .dataframe tbody tr th:only-of-type {\n",
              "        vertical-align: middle;\n",
              "    }\n",
              "\n",
              "    .dataframe tbody tr th {\n",
              "        vertical-align: top;\n",
              "    }\n",
              "\n",
              "    .dataframe thead th {\n",
              "        text-align: right;\n",
              "    }\n",
              "</style>\n",
              "<table border=\"1\" class=\"dataframe\">\n",
              "  <thead>\n",
              "    <tr style=\"text-align: right;\">\n",
              "      <th></th>\n",
              "      <th>Restaurant ID</th>\n",
              "      <th>Restaurant Name</th>\n",
              "      <th>City</th>\n",
              "      <th>Address</th>\n",
              "      <th>Locality</th>\n",
              "      <th>Locality Verbose</th>\n",
              "      <th>Longitude</th>\n",
              "      <th>Latitude</th>\n",
              "      <th>Cuisines</th>\n",
              "      <th>Average Cost for two</th>\n",
              "      <th>Currency</th>\n",
              "      <th>Has Table booking</th>\n",
              "      <th>Has Online delivery</th>\n",
              "      <th>Is delivering now</th>\n",
              "      <th>Switch to order menu</th>\n",
              "      <th>Price range</th>\n",
              "      <th>Aggregate rating</th>\n",
              "      <th>Rating color</th>\n",
              "      <th>Rating text</th>\n",
              "      <th>Votes</th>\n",
              "      <th>Country</th>\n",
              "    </tr>\n",
              "  </thead>\n",
              "  <tbody>\n",
              "    <tr>\n",
              "      <th>624</th>\n",
              "      <td>3400025</td>\n",
              "      <td>Jahanpanah</td>\n",
              "      <td>Agra</td>\n",
              "      <td>E 23, Shopping Arcade, Sadar Bazaar, Agra Cant...</td>\n",
              "      <td>Agra Cantt</td>\n",
              "      <td>Agra Cantt, Agra</td>\n",
              "      <td>78.011544</td>\n",
              "      <td>27.161661</td>\n",
              "      <td>North Indian, Mughlai</td>\n",
              "      <td>850</td>\n",
              "      <td>Indian Rupees(Rs.)</td>\n",
              "      <td>No</td>\n",
              "      <td>No</td>\n",
              "      <td>No</td>\n",
              "      <td>No</td>\n",
              "      <td>3</td>\n",
              "      <td>3.9</td>\n",
              "      <td>Yellow</td>\n",
              "      <td>Good</td>\n",
              "      <td>140</td>\n",
              "      <td>India</td>\n",
              "    </tr>\n",
              "    <tr>\n",
              "      <th>625</th>\n",
              "      <td>3400341</td>\n",
              "      <td>Rangrezz Restaurant</td>\n",
              "      <td>Agra</td>\n",
              "      <td>E-20, Shopping Arcade, Sadar Bazaar, Agra Cant...</td>\n",
              "      <td>Agra Cantt</td>\n",
              "      <td>Agra Cantt, Agra</td>\n",
              "      <td>0.000000</td>\n",
              "      <td>0.000000</td>\n",
              "      <td>North Indian, Mughlai</td>\n",
              "      <td>700</td>\n",
              "      <td>Indian Rupees(Rs.)</td>\n",
              "      <td>No</td>\n",
              "      <td>No</td>\n",
              "      <td>No</td>\n",
              "      <td>No</td>\n",
              "      <td>2</td>\n",
              "      <td>3.5</td>\n",
              "      <td>Yellow</td>\n",
              "      <td>Good</td>\n",
              "      <td>71</td>\n",
              "      <td>India</td>\n",
              "    </tr>\n",
              "    <tr>\n",
              "      <th>626</th>\n",
              "      <td>3400005</td>\n",
              "      <td>Time2Eat - Mama Chicken</td>\n",
              "      <td>Agra</td>\n",
              "      <td>Main Market, Sadar Bazaar, Agra Cantt, Agra</td>\n",
              "      <td>Agra Cantt</td>\n",
              "      <td>Agra Cantt, Agra</td>\n",
              "      <td>78.011608</td>\n",
              "      <td>27.160832</td>\n",
              "      <td>North Indian</td>\n",
              "      <td>500</td>\n",
              "      <td>Indian Rupees(Rs.)</td>\n",
              "      <td>No</td>\n",
              "      <td>No</td>\n",
              "      <td>No</td>\n",
              "      <td>No</td>\n",
              "      <td>2</td>\n",
              "      <td>3.6</td>\n",
              "      <td>Yellow</td>\n",
              "      <td>Good</td>\n",
              "      <td>94</td>\n",
              "      <td>India</td>\n",
              "    </tr>\n",
              "    <tr>\n",
              "      <th>627</th>\n",
              "      <td>3400021</td>\n",
              "      <td>Chokho Jeeman Marwari Jain Bhojanalya</td>\n",
              "      <td>Agra</td>\n",
              "      <td>1/48, Delhi Gate, Station Road, Raja Mandi, Ci...</td>\n",
              "      <td>Civil Lines</td>\n",
              "      <td>Civil Lines, Agra</td>\n",
              "      <td>77.998092</td>\n",
              "      <td>27.195928</td>\n",
              "      <td>Rajasthani</td>\n",
              "      <td>400</td>\n",
              "      <td>Indian Rupees(Rs.)</td>\n",
              "      <td>No</td>\n",
              "      <td>No</td>\n",
              "      <td>No</td>\n",
              "      <td>No</td>\n",
              "      <td>2</td>\n",
              "      <td>4.0</td>\n",
              "      <td>Green</td>\n",
              "      <td>Very Good</td>\n",
              "      <td>87</td>\n",
              "      <td>India</td>\n",
              "    </tr>\n",
              "    <tr>\n",
              "      <th>628</th>\n",
              "      <td>3400017</td>\n",
              "      <td>Pinch Of Spice</td>\n",
              "      <td>Agra</td>\n",
              "      <td>23/453, Opposite Sanjay Cinema, Wazipura Road,...</td>\n",
              "      <td>Civil Lines</td>\n",
              "      <td>Civil Lines, Agra</td>\n",
              "      <td>78.007553</td>\n",
              "      <td>27.201725</td>\n",
              "      <td>North Indian, Chinese, Mughlai</td>\n",
              "      <td>1000</td>\n",
              "      <td>Indian Rupees(Rs.)</td>\n",
              "      <td>No</td>\n",
              "      <td>No</td>\n",
              "      <td>No</td>\n",
              "      <td>No</td>\n",
              "      <td>3</td>\n",
              "      <td>4.2</td>\n",
              "      <td>Green</td>\n",
              "      <td>Very Good</td>\n",
              "      <td>177</td>\n",
              "      <td>India</td>\n",
              "    </tr>\n",
              "  </tbody>\n",
              "</table>\n",
              "</div>"
            ],
            "text/plain": [
              "     Restaurant ID                        Restaurant Name  ... Votes Country\n",
              "624        3400025                             Jahanpanah  ...   140   India\n",
              "625        3400341                    Rangrezz Restaurant  ...    71   India\n",
              "626        3400005                Time2Eat - Mama Chicken  ...    94   India\n",
              "627        3400021  Chokho Jeeman Marwari Jain Bhojanalya  ...    87   India\n",
              "628        3400017                         Pinch Of Spice  ...   177   India\n",
              "\n",
              "[5 rows x 21 columns]"
            ]
          },
          "metadata": {
            "tags": []
          },
          "execution_count": 81
        }
      ]
    },
    {
      "cell_type": "code",
      "metadata": {
        "colab": {
          "base_uri": "https://localhost:8080/"
        },
        "id": "3lpFFE9P3Ncw",
        "outputId": "61e76c7a-3074-4dfc-de8f-165fbad2c762"
      },
      "source": [
        "new_df.shape"
      ],
      "execution_count": 85,
      "outputs": [
        {
          "output_type": "execute_result",
          "data": {
            "text/plain": [
              "(6513, 21)"
            ]
          },
          "metadata": {
            "tags": []
          },
          "execution_count": 85
        }
      ]
    },
    {
      "cell_type": "code",
      "metadata": {
        "id": "ERKLBL6e3Nhf"
      },
      "source": [
        "import folium as fl"
      ],
      "execution_count": 93,
      "outputs": []
    },
    {
      "cell_type": "code",
      "metadata": {
        "colab": {
          "base_uri": "https://localhost:8080/"
        },
        "id": "g4KdhT4L3NkI",
        "outputId": "2798497e-3fd5-4331-e0d9-9ff9089a501d"
      },
      "source": [
        "my_map1 = fl.Map(location = [28.5011226, 77.4099794],\n",
        "                                        zoom_start = 12 )\n",
        "fl.CircleMarker(location = [28.5011226, 77.4099794],\n",
        "                    radius = 50, popup = ' FRI ').add_to(my_map1)\n"
      ],
      "execution_count": 95,
      "outputs": [
        {
          "output_type": "execute_result",
          "data": {
            "text/plain": [
              "<folium.vector_layers.CircleMarker at 0x7f8f3f1f5fd0>"
            ]
          },
          "metadata": {
            "tags": []
          },
          "execution_count": 95
        }
      ]
    },
    {
      "cell_type": "code",
      "metadata": {
        "id": "UFV--2AU3Nmt"
      },
      "source": [
        "my_map1"
      ],
      "execution_count": null,
      "outputs": []
    },
    {
      "cell_type": "code",
      "metadata": {
        "colab": {
          "base_uri": "https://localhost:8080/"
        },
        "id": "V91nGCKmsm5Y",
        "outputId": "cd0e0ee4-cbe1-4deb-b81f-febbb17afbaa"
      },
      "source": [
        "my_map3 = fl.Map(location = [28.5011226, 77.4099794],\n",
        "                                        zoom_start = 15)\n",
        "fl.Marker([28.5011226, 77.4099794],\n",
        "               popup = ' Geeksforgeeks.org ').add_to(my_map3)\n",
        "  "
      ],
      "execution_count": 103,
      "outputs": [
        {
          "output_type": "execute_result",
          "data": {
            "text/plain": [
              "<folium.map.Marker at 0x7f8f3f19b210>"
            ]
          },
          "metadata": {
            "tags": []
          },
          "execution_count": 103
        }
      ]
    },
    {
      "cell_type": "code",
      "metadata": {
        "id": "VcaO7sTUsm7W"
      },
      "source": [
        "my_map3"
      ],
      "execution_count": null,
      "outputs": []
    },
    {
      "cell_type": "code",
      "metadata": {
        "id": "yOWRNz6Wsm9p"
      },
      "source": [
        ""
      ],
      "execution_count": null,
      "outputs": []
    },
    {
      "cell_type": "code",
      "metadata": {
        "id": "HcL3BRTQ95fd"
      },
      "source": [
        ""
      ],
      "execution_count": null,
      "outputs": []
    },
    {
      "cell_type": "code",
      "metadata": {
        "id": "G0LVh-BH95j1"
      },
      "source": [
        ""
      ],
      "execution_count": null,
      "outputs": []
    },
    {
      "cell_type": "code",
      "metadata": {
        "id": "FYPF_0Gy95pI"
      },
      "source": [
        ""
      ],
      "execution_count": null,
      "outputs": []
    },
    {
      "cell_type": "code",
      "metadata": {
        "id": "hiSzrqMb95s_"
      },
      "source": [
        ""
      ],
      "execution_count": null,
      "outputs": []
    },
    {
      "cell_type": "code",
      "metadata": {
        "id": "2TgVbQ-895vp"
      },
      "source": [
        ""
      ],
      "execution_count": null,
      "outputs": []
    }
  ]
}